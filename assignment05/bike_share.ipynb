{
 "cells": [
  {
   "cell_type": "markdown",
   "metadata": {},
   "source": [
    "# Analysis of Bay Area Bike Sharing"
   ]
  },
  {
   "cell_type": "markdown",
   "metadata": {},
   "source": [
    "This notebook utilizes the public San Francisco Bay Area Bike Share [data](https://cloud.google.com/bigquery/public-data/bay-bike-share) on Google BigQuery to perform some exploratory analysis on data from [Ford GoBike](https://www.fordgobike.com/).  We will look at the trips to gain some insight on which ones are popular and offer some potential recommendations for further study.\n",
    "\n",
    "We have data from 2013 to 2017.  During this time, users logged over 980,000 trips among 74 stations located across the Bay Area."
   ]
  },
  {
   "cell_type": "markdown",
   "metadata": {},
   "source": [
    "Below, we will perform some setup for analysis."
   ]
  },
  {
   "cell_type": "code",
   "execution_count": 1,
   "metadata": {},
   "outputs": [],
   "source": [
    "import numpy as np\n",
    "import pandas as pd\n",
    "import matplotlib.pyplot as plt\n",
    "import seaborn as sns\n",
    "from sklearn.linear_model import LinearRegression\n",
    "from scipy.stats import ttest_rel\n",
    "%matplotlib inline"
   ]
  },
  {
   "cell_type": "code",
   "execution_count": 5,
   "metadata": {},
   "outputs": [
    {
     "name": "stderr",
     "output_type": "stream",
     "text": [
      "\r",
      "Waiting on bqjob_r5b3f898f85d6703b_0000016406b74da9_1 ... (0s) Current status: DONE   "
     ]
    }
   ],
   "source": [
    "%%bash\n",
    "bq query --use_legacy_sql=FALSE --format=csv --max_rows=1000000 --maximum_bytes_billed=300000000 '\n",
    "    SELECT\n",
    "      COUNT(*) AS num_trips,\n",
    "      AVG(duration_sec) AS average_duration,\n",
    "      start_station_id,\n",
    "      start_station_name,\n",
    "      starts.dockcount AS start_dockcount,\n",
    "      end_station_id,\n",
    "      end_station_name,\n",
    "      ends.dockcount AS end_dockcount,\n",
    "      countIF(subscriber_type = \"Subscriber\") AS subscribers,\n",
    "      countIF(subscriber_type = \"Customer\") AS customers\n",
    "    FROM\n",
    "      `bigquery-public-data.san_francisco.bikeshare_trips`\n",
    "    JOIN\n",
    "      `bigquery-public-data.san_francisco.bikeshare_stations` starts\n",
    "    ON\n",
    "      starts.station_id = start_station_id\n",
    "    JOIN\n",
    "      `bigquery-public-data.san_francisco.bikeshare_stations` ends\n",
    "    ON\n",
    "      ends.station_id = end_station_id\n",
    "    GROUP BY\n",
    "      start_station_id,\n",
    "      start_station_name,\n",
    "      end_station_id,\n",
    "      end_station_name,\n",
    "      start_dockcount,\n",
    "      end_dockcount\n",
    "    ORDER BY\n",
    "      num_trips DESC' > trips.csv\n"
   ]
  },
  {
   "cell_type": "code",
   "execution_count": 6,
   "metadata": {
    "scrolled": true
   },
   "outputs": [
    {
     "data": {
      "text/html": [
       "<div>\n",
       "<style scoped>\n",
       "    .dataframe tbody tr th:only-of-type {\n",
       "        vertical-align: middle;\n",
       "    }\n",
       "\n",
       "    .dataframe tbody tr th {\n",
       "        vertical-align: top;\n",
       "    }\n",
       "\n",
       "    .dataframe thead th {\n",
       "        text-align: right;\n",
       "    }\n",
       "</style>\n",
       "<table border=\"1\" class=\"dataframe\">\n",
       "  <thead>\n",
       "    <tr style=\"text-align: right;\">\n",
       "      <th></th>\n",
       "      <th>num_trips</th>\n",
       "      <th>average_duration</th>\n",
       "      <th>start_station_id</th>\n",
       "      <th>start_station_name</th>\n",
       "      <th>start_dockcount</th>\n",
       "      <th>end_station_id</th>\n",
       "      <th>end_station_name</th>\n",
       "      <th>end_dockcount</th>\n",
       "      <th>subscribers</th>\n",
       "      <th>customers</th>\n",
       "    </tr>\n",
       "  </thead>\n",
       "  <tbody>\n",
       "    <tr>\n",
       "      <th>0</th>\n",
       "      <td>9150</td>\n",
       "      <td>1188.003825</td>\n",
       "      <td>50</td>\n",
       "      <td>Harry Bridges Plaza (Ferry Building)</td>\n",
       "      <td>23</td>\n",
       "      <td>60</td>\n",
       "      <td>Embarcadero at Sansome</td>\n",
       "      <td>15</td>\n",
       "      <td>5483</td>\n",
       "      <td>3667</td>\n",
       "    </tr>\n",
       "    <tr>\n",
       "      <th>1</th>\n",
       "      <td>8508</td>\n",
       "      <td>306.665961</td>\n",
       "      <td>69</td>\n",
       "      <td>San Francisco Caltrain 2 (330 Townsend)</td>\n",
       "      <td>23</td>\n",
       "      <td>65</td>\n",
       "      <td>Townsend at 7th</td>\n",
       "      <td>15</td>\n",
       "      <td>8305</td>\n",
       "      <td>203</td>\n",
       "    </tr>\n",
       "    <tr>\n",
       "      <th>2</th>\n",
       "      <td>7620</td>\n",
       "      <td>581.754856</td>\n",
       "      <td>61</td>\n",
       "      <td>2nd at Townsend</td>\n",
       "      <td>27</td>\n",
       "      <td>50</td>\n",
       "      <td>Harry Bridges Plaza (Ferry Building)</td>\n",
       "      <td>23</td>\n",
       "      <td>6931</td>\n",
       "      <td>689</td>\n",
       "    </tr>\n",
       "    <tr>\n",
       "      <th>3</th>\n",
       "      <td>6888</td>\n",
       "      <td>637.523229</td>\n",
       "      <td>50</td>\n",
       "      <td>Harry Bridges Plaza (Ferry Building)</td>\n",
       "      <td>23</td>\n",
       "      <td>61</td>\n",
       "      <td>2nd at Townsend</td>\n",
       "      <td>27</td>\n",
       "      <td>6332</td>\n",
       "      <td>556</td>\n",
       "    </tr>\n",
       "    <tr>\n",
       "      <th>4</th>\n",
       "      <td>6874</td>\n",
       "      <td>511.009019</td>\n",
       "      <td>60</td>\n",
       "      <td>Embarcadero at Sansome</td>\n",
       "      <td>15</td>\n",
       "      <td>74</td>\n",
       "      <td>Steuart at Market</td>\n",
       "      <td>23</td>\n",
       "      <td>6200</td>\n",
       "      <td>674</td>\n",
       "    </tr>\n",
       "  </tbody>\n",
       "</table>\n",
       "</div>"
      ],
      "text/plain": [
       "   num_trips  average_duration  start_station_id  \\\n",
       "0       9150       1188.003825                50   \n",
       "1       8508        306.665961                69   \n",
       "2       7620        581.754856                61   \n",
       "3       6888        637.523229                50   \n",
       "4       6874        511.009019                60   \n",
       "\n",
       "                        start_station_name  start_dockcount  end_station_id  \\\n",
       "0     Harry Bridges Plaza (Ferry Building)               23              60   \n",
       "1  San Francisco Caltrain 2 (330 Townsend)               23              65   \n",
       "2                          2nd at Townsend               27              50   \n",
       "3     Harry Bridges Plaza (Ferry Building)               23              61   \n",
       "4                   Embarcadero at Sansome               15              74   \n",
       "\n",
       "                       end_station_name  end_dockcount  subscribers  customers  \n",
       "0                Embarcadero at Sansome             15         5483       3667  \n",
       "1                       Townsend at 7th             15         8305        203  \n",
       "2  Harry Bridges Plaza (Ferry Building)             23         6931        689  \n",
       "3                       2nd at Townsend             27         6332        556  \n",
       "4                     Steuart at Market             23         6200        674  "
      ]
     },
     "execution_count": 6,
     "metadata": {},
     "output_type": "execute_result"
    }
   ],
   "source": [
    "trips = pd.read_csv('trips.csv')\n",
    "trips.head()"
   ]
  },
  {
   "cell_type": "markdown",
   "metadata": {},
   "source": [
    "## Most Popular Commuter Trips"
   ]
  },
  {
   "cell_type": "code",
   "execution_count": 65,
   "metadata": {
    "scrolled": true
   },
   "outputs": [
    {
     "name": "stdout",
     "output_type": "stream",
     "text": [
      "The 5 most popular trips are\n"
     ]
    },
    {
     "data": {
      "text/html": [
       "<div>\n",
       "<style scoped>\n",
       "    .dataframe tbody tr th:only-of-type {\n",
       "        vertical-align: middle;\n",
       "    }\n",
       "\n",
       "    .dataframe tbody tr th {\n",
       "        vertical-align: top;\n",
       "    }\n",
       "\n",
       "    .dataframe thead th {\n",
       "        text-align: right;\n",
       "    }\n",
       "</style>\n",
       "<table border=\"1\" class=\"dataframe\">\n",
       "  <thead>\n",
       "    <tr style=\"text-align: right;\">\n",
       "      <th></th>\n",
       "      <th>start_station_name</th>\n",
       "      <th>start_dockcount</th>\n",
       "      <th>end_station_name</th>\n",
       "      <th>end_dockcount</th>\n",
       "      <th>num_trips</th>\n",
       "    </tr>\n",
       "  </thead>\n",
       "  <tbody>\n",
       "    <tr>\n",
       "      <th>0</th>\n",
       "      <td>Harry Bridges Plaza (Ferry Building)</td>\n",
       "      <td>23</td>\n",
       "      <td>Embarcadero at Sansome</td>\n",
       "      <td>15</td>\n",
       "      <td>9150</td>\n",
       "    </tr>\n",
       "    <tr>\n",
       "      <th>1</th>\n",
       "      <td>San Francisco Caltrain 2 (330 Townsend)</td>\n",
       "      <td>23</td>\n",
       "      <td>Townsend at 7th</td>\n",
       "      <td>15</td>\n",
       "      <td>8508</td>\n",
       "    </tr>\n",
       "    <tr>\n",
       "      <th>2</th>\n",
       "      <td>2nd at Townsend</td>\n",
       "      <td>27</td>\n",
       "      <td>Harry Bridges Plaza (Ferry Building)</td>\n",
       "      <td>23</td>\n",
       "      <td>7620</td>\n",
       "    </tr>\n",
       "    <tr>\n",
       "      <th>3</th>\n",
       "      <td>Harry Bridges Plaza (Ferry Building)</td>\n",
       "      <td>23</td>\n",
       "      <td>2nd at Townsend</td>\n",
       "      <td>27</td>\n",
       "      <td>6888</td>\n",
       "    </tr>\n",
       "    <tr>\n",
       "      <th>4</th>\n",
       "      <td>Embarcadero at Sansome</td>\n",
       "      <td>15</td>\n",
       "      <td>Steuart at Market</td>\n",
       "      <td>23</td>\n",
       "      <td>6874</td>\n",
       "    </tr>\n",
       "  </tbody>\n",
       "</table>\n",
       "</div>"
      ],
      "text/plain": [
       "                        start_station_name  start_dockcount  \\\n",
       "0     Harry Bridges Plaza (Ferry Building)               23   \n",
       "1  San Francisco Caltrain 2 (330 Townsend)               23   \n",
       "2                          2nd at Townsend               27   \n",
       "3     Harry Bridges Plaza (Ferry Building)               23   \n",
       "4                   Embarcadero at Sansome               15   \n",
       "\n",
       "                       end_station_name  end_dockcount  num_trips  \n",
       "0                Embarcadero at Sansome             15       9150  \n",
       "1                       Townsend at 7th             15       8508  \n",
       "2  Harry Bridges Plaza (Ferry Building)             23       7620  \n",
       "3                       2nd at Townsend             27       6888  \n",
       "4                     Steuart at Market             23       6874  "
      ]
     },
     "execution_count": 65,
     "metadata": {},
     "output_type": "execute_result"
    }
   ],
   "source": [
    "n = 5 # change to see more trips\n",
    "print(\"The %d most popular trips are\" % n)\n",
    "trips[:n][['start_station_name', 'start_dockcount', 'end_station_name', 'end_dockcount', 'num_trips']]"
   ]
  },
  {
   "cell_type": "markdown",
   "metadata": {},
   "source": [
    "The above trips are the most popular.  It probably makes sense to have more docks and bikes at these locations, so that riders will always have some available.  This is especially true at Harry Bridges Plaza, which appears three times in the top five commuter trips.\n",
    "![harry-bridges-plaza](img/harry-bridges-plaza.jpg)"
   ]
  },
  {
   "cell_type": "code",
   "execution_count": 115,
   "metadata": {},
   "outputs": [
    {
     "data": {
      "image/png": "[encoded data removed]",
      "text/plain": [
       "<Figure size 432x288 with 1 Axes>"
      ]
     },
     "metadata": {},
     "output_type": "display_data"
    }
   ],
   "source": [
    "plt.hist(trips.start_dockcount)\n",
    "plt.axvline(trips.start_dockcount.mean(), color='k', linestyle='dashed')\n",
    "plt.text(19,800,'mean = %s' % round(trips.start_dockcount.mean(), 1))\n",
    "plt.title('Docks at Start Station')\n",
    "plt.ylabel('Count')\n",
    "plt.grid()\n",
    "plt.show()"
   ]
  },
  {
   "cell_type": "markdown",
   "metadata": {},
   "source": [
    "It looks like with a dock count of 23, the company does have an above average number of dock counts at Harry Bridges Plaza already.  However, the Sansome station at the Embarcadero could use a few more docks.  Let us examine the average status of stations.  We'll need another bq query."
   ]
  },
  {
   "cell_type": "markdown",
   "metadata": {},
   "source": [
    "### statuses.csv\n",
    "```sql\n",
    "SELECT\n",
    "  station_id,\n",
    "  AVG(bikes_available) AS avg_bikes,\n",
    "  AVG(docks_available) AS avg_docks\n",
    "FROM\n",
    "  `bigquery-public-data.san_francisco.bikeshare_status`\n",
    "GROUP BY\n",
    "  station_id\n",
    "ORDER BY\n",
    "  station_id\n",
    "```"
   ]
  },
  {
   "cell_type": "code",
   "execution_count": 12,
   "metadata": {},
   "outputs": [
    {
     "name": "stderr",
     "output_type": "stream",
     "text": [
      "\r",
      "Waiting on bqjob_r17513b63d1537642_0000016406b9d481_1 ... (0s) Current status: RUNNING\r",
      "                                                                                      \r",
      "Waiting on bqjob_r17513b63d1537642_0000016406b9d481_1 ... (1s) Current status: RUNNING\r",
      "                                                                                      \r",
      "Waiting on bqjob_r17513b63d1537642_0000016406b9d481_1 ... (1s) Current status: DONE   "
     ]
    }
   ],
   "source": [
    "%%bash\n",
    "bq query --use_legacy_sql=FALSE --format=csv --max_rows=1000000 --maximum_bytes_billed=3000000000 '\n",
    "    SELECT\n",
    "      station_id,\n",
    "      AVG(bikes_available) AS avg_bikes,\n",
    "      AVG(docks_available) AS avg_docks\n",
    "    FROM\n",
    "      `bigquery-public-data.san_francisco.bikeshare_status`\n",
    "    GROUP BY\n",
    "      station_id\n",
    "    ORDER BY\n",
    "      station_id' > statuses.csv"
   ]
  },
  {
   "cell_type": "code",
   "execution_count": 13,
   "metadata": {},
   "outputs": [
    {
     "data": {
      "text/html": [
       "<div>\n",
       "<style scoped>\n",
       "    .dataframe tbody tr th:only-of-type {\n",
       "        vertical-align: middle;\n",
       "    }\n",
       "\n",
       "    .dataframe tbody tr th {\n",
       "        vertical-align: top;\n",
       "    }\n",
       "\n",
       "    .dataframe thead th {\n",
       "        text-align: right;\n",
       "    }\n",
       "</style>\n",
       "<table border=\"1\" class=\"dataframe\">\n",
       "  <thead>\n",
       "    <tr style=\"text-align: right;\">\n",
       "      <th></th>\n",
       "      <th>station_id</th>\n",
       "      <th>avg_bikes</th>\n",
       "      <th>avg_docks</th>\n",
       "    </tr>\n",
       "  </thead>\n",
       "  <tbody>\n",
       "    <tr>\n",
       "      <th>0</th>\n",
       "      <td>2</td>\n",
       "      <td>12.680102</td>\n",
       "      <td>14.229973</td>\n",
       "    </tr>\n",
       "    <tr>\n",
       "      <th>1</th>\n",
       "      <td>3</td>\n",
       "      <td>8.209532</td>\n",
       "      <td>6.779045</td>\n",
       "    </tr>\n",
       "    <tr>\n",
       "      <th>2</th>\n",
       "      <td>4</td>\n",
       "      <td>5.351653</td>\n",
       "      <td>5.630504</td>\n",
       "    </tr>\n",
       "    <tr>\n",
       "      <th>3</th>\n",
       "      <td>5</td>\n",
       "      <td>7.655210</td>\n",
       "      <td>11.320708</td>\n",
       "    </tr>\n",
       "    <tr>\n",
       "      <th>4</th>\n",
       "      <td>6</td>\n",
       "      <td>7.479085</td>\n",
       "      <td>7.502331</td>\n",
       "    </tr>\n",
       "  </tbody>\n",
       "</table>\n",
       "</div>"
      ],
      "text/plain": [
       "   station_id  avg_bikes  avg_docks\n",
       "0           2  12.680102  14.229973\n",
       "1           3   8.209532   6.779045\n",
       "2           4   5.351653   5.630504\n",
       "3           5   7.655210  11.320708\n",
       "4           6   7.479085   7.502331"
      ]
     },
     "execution_count": 13,
     "metadata": {},
     "output_type": "execute_result"
    }
   ],
   "source": [
    "statuses = pd.read_csv('statuses.csv')\n",
    "#statuses = statuses.set_index('station_id')\n",
    "statuses.head()"
   ]
  },
  {
   "cell_type": "code",
   "execution_count": 15,
   "metadata": {},
   "outputs": [
    {
     "data": {
      "image/png": "[encoded data removed]",
      "text/plain": [
       "<Figure size 432x288 with 1 Axes>"
      ]
     },
     "metadata": {},
     "output_type": "display_data"
    }
   ],
   "source": [
    "plt.hist(statuses.avg_bikes)\n",
    "plt.axvline(statuses.loc[50].avg_bikes, color='k', linestyle='dashed',\n",
    "           label='Harry Bridges Plaza: %s' % round(statuses.loc[50].avg_bikes,1))\n",
    "plt.axvline(statuses.loc[60].avg_bikes, color='r', linestyle='dashed',\n",
    "           label='Embarcadero at Sansome: %s' % round(statuses.loc[60].avg_bikes,1))\n",
    "plt.title('Average Bikes Available')\n",
    "plt.ylabel('Count')\n",
    "plt.legend()\n",
    "plt.grid()"
   ]
  },
  {
   "cell_type": "code",
   "execution_count": 13,
   "metadata": {
    "scrolled": false
   },
   "outputs": [
    {
     "data": {
      "image/png": "[encoded data removed]",
      "text/plain": [
       "<Figure size 432x288 with 1 Axes>"
      ]
     },
     "metadata": {},
     "output_type": "display_data"
    }
   ],
   "source": [
    "plt.hist(statuses.avg_docks)\n",
    "plt.axvline(statuses.loc[50].avg_docks, color='k', linestyle='dashed', \n",
    "            label='Harry Bridges Plaza: %s' % round(statuses.loc[50].avg_docks,1))\n",
    "plt.axvline(statuses.loc[60].avg_docks, color='r', linestyle='dashed', \n",
    "            label='Embarcadero at Sansome: %s' % round(statuses.loc[60].avg_docks,1))\n",
    "plt.title('Average Empty Docks')\n",
    "plt.ylabel('Count')\n",
    "plt.legend()\n",
    "plt.grid()"
   ]
  },
  {
   "cell_type": "markdown",
   "metadata": {},
   "source": [
    "Given that Sansome station at Embarcadero is fifth most popular starting station, it makes sense to add more bikes/docks there."
   ]
  },
  {
   "cell_type": "markdown",
   "metadata": {},
   "source": [
    "## Subscribers and Customers"
   ]
  },
  {
   "cell_type": "code",
   "execution_count": 5,
   "metadata": {},
   "outputs": [
    {
     "data": {
      "text/html": [
       "<div>\n",
       "<style scoped>\n",
       "    .dataframe tbody tr th:only-of-type {\n",
       "        vertical-align: middle;\n",
       "    }\n",
       "\n",
       "    .dataframe tbody tr th {\n",
       "        vertical-align: top;\n",
       "    }\n",
       "\n",
       "    .dataframe thead th {\n",
       "        text-align: right;\n",
       "    }\n",
       "</style>\n",
       "<table border=\"1\" class=\"dataframe\">\n",
       "  <thead>\n",
       "    <tr style=\"text-align: right;\">\n",
       "      <th></th>\n",
       "      <th>num_trips</th>\n",
       "      <th>average_duration</th>\n",
       "      <th>start_station_id</th>\n",
       "      <th>start_station_name</th>\n",
       "      <th>start_dockcount</th>\n",
       "      <th>end_station_id</th>\n",
       "      <th>end_station_name</th>\n",
       "      <th>end_dockcount</th>\n",
       "      <th>subscribers</th>\n",
       "      <th>customers</th>\n",
       "    </tr>\n",
       "  </thead>\n",
       "  <tbody>\n",
       "    <tr>\n",
       "      <th>0</th>\n",
       "      <td>9150</td>\n",
       "      <td>1188.003825</td>\n",
       "      <td>50</td>\n",
       "      <td>Harry Bridges Plaza (Ferry Building)</td>\n",
       "      <td>23</td>\n",
       "      <td>60</td>\n",
       "      <td>Embarcadero at Sansome</td>\n",
       "      <td>15</td>\n",
       "      <td>5483</td>\n",
       "      <td>3667</td>\n",
       "    </tr>\n",
       "    <tr>\n",
       "      <th>1</th>\n",
       "      <td>8508</td>\n",
       "      <td>306.665961</td>\n",
       "      <td>69</td>\n",
       "      <td>San Francisco Caltrain 2 (330 Townsend)</td>\n",
       "      <td>23</td>\n",
       "      <td>65</td>\n",
       "      <td>Townsend at 7th</td>\n",
       "      <td>15</td>\n",
       "      <td>8305</td>\n",
       "      <td>203</td>\n",
       "    </tr>\n",
       "    <tr>\n",
       "      <th>2</th>\n",
       "      <td>7620</td>\n",
       "      <td>581.754856</td>\n",
       "      <td>61</td>\n",
       "      <td>2nd at Townsend</td>\n",
       "      <td>27</td>\n",
       "      <td>50</td>\n",
       "      <td>Harry Bridges Plaza (Ferry Building)</td>\n",
       "      <td>23</td>\n",
       "      <td>6931</td>\n",
       "      <td>689</td>\n",
       "    </tr>\n",
       "    <tr>\n",
       "      <th>3</th>\n",
       "      <td>6888</td>\n",
       "      <td>637.523229</td>\n",
       "      <td>50</td>\n",
       "      <td>Harry Bridges Plaza (Ferry Building)</td>\n",
       "      <td>23</td>\n",
       "      <td>61</td>\n",
       "      <td>2nd at Townsend</td>\n",
       "      <td>27</td>\n",
       "      <td>6332</td>\n",
       "      <td>556</td>\n",
       "    </tr>\n",
       "    <tr>\n",
       "      <th>4</th>\n",
       "      <td>6874</td>\n",
       "      <td>511.009019</td>\n",
       "      <td>60</td>\n",
       "      <td>Embarcadero at Sansome</td>\n",
       "      <td>15</td>\n",
       "      <td>74</td>\n",
       "      <td>Steuart at Market</td>\n",
       "      <td>23</td>\n",
       "      <td>6200</td>\n",
       "      <td>674</td>\n",
       "    </tr>\n",
       "  </tbody>\n",
       "</table>\n",
       "</div>"
      ],
      "text/plain": [
       "   num_trips  average_duration  start_station_id  \\\n",
       "0       9150       1188.003825                50   \n",
       "1       8508        306.665961                69   \n",
       "2       7620        581.754856                61   \n",
       "3       6888        637.523229                50   \n",
       "4       6874        511.009019                60   \n",
       "\n",
       "                        start_station_name  start_dockcount  end_station_id  \\\n",
       "0     Harry Bridges Plaza (Ferry Building)               23              60   \n",
       "1  San Francisco Caltrain 2 (330 Townsend)               23              65   \n",
       "2                          2nd at Townsend               27              50   \n",
       "3     Harry Bridges Plaza (Ferry Building)               23              61   \n",
       "4                   Embarcadero at Sansome               15              74   \n",
       "\n",
       "                       end_station_name  end_dockcount  subscribers  customers  \n",
       "0                Embarcadero at Sansome             15         5483       3667  \n",
       "1                       Townsend at 7th             15         8305        203  \n",
       "2  Harry Bridges Plaza (Ferry Building)             23         6931        689  \n",
       "3                       2nd at Townsend             27         6332        556  \n",
       "4                     Steuart at Market             23         6200        674  "
      ]
     },
     "execution_count": 5,
     "metadata": {},
     "output_type": "execute_result"
    }
   ],
   "source": [
    "trips.head()"
   ]
  },
  {
   "cell_type": "markdown",
   "metadata": {},
   "source": [
    "The dataset segregates riders into two categories:\n",
    "1. Subscribers - riders with an annual or 30-day membership\n",
    "2. Customers - riders with a 24-hour or 3-day pass\n",
    "\n",
    "Let us look at the relationship between subscribers and customers in the trips. One of the things that we notice is that the most popular trip, from Harry Bridges to Sansome, has a higher subscriber to customer ratio than the other top trips.  That is, it seems like there is some room here to turn some short term customers into long term subscribers."
   ]
  },
  {
   "cell_type": "code",
   "execution_count": 24,
   "metadata": {},
   "outputs": [
    {
     "data": {
      "image/png": "[encoded data removed]",
      "text/plain": [
       "<Figure size 432x288 with 1 Axes>"
      ]
     },
     "metadata": {},
     "output_type": "display_data"
    }
   ],
   "source": [
    "plt.scatter(trips.customers, trips.subscribers)\n",
    "plt.plot(trips.iloc[0].customers, trips.iloc[0].subscribers, 'ro')\n",
    "plt.text(2000, 6000, 'Harry Bridges to Sansome', color='r')\n",
    "plt.xlabel('Customers')\n",
    "plt.ylabel('Subscribers')\n",
    "plt.title('Subscribers vs Customers')\n",
    "plt.grid()"
   ]
  },
  {
   "cell_type": "markdown",
   "metadata": {},
   "source": [
    "As we can see, the Harry Bridges to Sansome trip does seem to be an outlier in that there is a very low number of subscribers for the number of customers.  The company should do some surveying to ascertain why people are so frequently taking this trip, but not subscribing to a longer term membership."
   ]
  },
  {
   "cell_type": "code",
   "execution_count": 9,
   "metadata": {},
   "outputs": [
    {
     "name": "stdout",
     "output_type": "stream",
     "text": [
      "Customers skew: 11.537511764366524\n",
      "Subscribers skew: 4.406371937647082\n"
     ]
    }
   ],
   "source": [
    "print('Customers skew:', trips.customers.skew())\n",
    "print('Subscribers skew:', trips.subscribers.skew())"
   ]
  },
  {
   "cell_type": "markdown",
   "metadata": {},
   "source": [
    "Both customer and subscriber data are heavily right skewed.  Let us examine the log-log plot to further study the relationship.  We'll only look at trips with nonzero customers and subscribers to avoid taking the log of zero."
   ]
  },
  {
   "cell_type": "code",
   "execution_count": 44,
   "metadata": {},
   "outputs": [
    {
     "name": "stdout",
     "output_type": "stream",
     "text": [
      "Minimum customers:  1\n",
      "Minimum subscribers:  1\n"
     ]
    }
   ],
   "source": [
    "trips2 = trips[(trips.customers > 0) & (trips.subscribers > 0)]\n",
    "print('Minimum customers:', min(trips2.customers))\n",
    "print('Minimum subscribers:', min(trips2.subscribers))"
   ]
  },
  {
   "cell_type": "code",
   "execution_count": 45,
   "metadata": {
    "scrolled": true
   },
   "outputs": [
    {
     "data": {
      "image/png": "[encoded data removed]",
      "text/plain": [
       "<Figure size 432x288 with 1 Axes>"
      ]
     },
     "metadata": {},
     "output_type": "display_data"
    }
   ],
   "source": [
    "plt.scatter(np.log(trips2.customers), np.log(trips2.subscribers))\n",
    "plt.xlabel('log(Customers)')\n",
    "plt.ylabel('log(Subscribers)')\n",
    "plt.title('log(Subscribers) vs log(Customers)')\n",
    "plt.grid()"
   ]
  },
  {
   "cell_type": "markdown",
   "metadata": {},
   "source": [
    "Let us fit a simple linear model."
   ]
  },
  {
   "cell_type": "code",
   "execution_count": 52,
   "metadata": {},
   "outputs": [
    {
     "name": "stderr",
     "output_type": "stream",
     "text": [
      "/usr/local/lib/python3.5/dist-packages/ipykernel_launcher.py:1: FutureWarning: reshape is deprecated and will raise in a subsequent release. Please use .values.reshape(...) instead\n",
      "  \"\"\"Entry point for launching an IPython kernel.\n"
     ]
    },
    {
     "data": {
      "text/plain": [
       "LinearRegression(copy_X=True, fit_intercept=True, n_jobs=1, normalize=False)"
      ]
     },
     "execution_count": 52,
     "metadata": {},
     "output_type": "execute_result"
    }
   ],
   "source": [
    "X = np.log(trips2.customers).reshape([-1,1])\n",
    "y = np.log(trips2.subscribers)\n",
    "\n",
    "lm = LinearRegression()\n",
    "lm.fit(X, y)"
   ]
  },
  {
   "cell_type": "code",
   "execution_count": 53,
   "metadata": {},
   "outputs": [
    {
     "data": {
      "image/png": "[encoded data removed]",
      "text/plain": [
       "<Figure size 432x288 with 1 Axes>"
      ]
     },
     "metadata": {},
     "output_type": "display_data"
    }
   ],
   "source": [
    "x = np.linspace(0,9,100)\n",
    "\n",
    "plt.scatter(X, y)\n",
    "plt.plot(x, lm.predict(x.reshape((-1,1))), color='r')\n",
    "plt.xlabel('log(Customers)')\n",
    "plt.ylabel('log(Subscribers)')\n",
    "plt.title('log(Subscribers) vs log(Customers)')\n",
    "plt.grid()"
   ]
  },
  {
   "cell_type": "code",
   "execution_count": 54,
   "metadata": {},
   "outputs": [
    {
     "data": {
      "text/plain": [
       "0.43321618482007296"
      ]
     },
     "execution_count": 54,
     "metadata": {},
     "output_type": "execute_result"
    }
   ],
   "source": [
    "lm.score(X, y)"
   ]
  },
  {
   "cell_type": "markdown",
   "metadata": {},
   "source": [
    "It looks like there is weak correlation between customers and subscribers.  For some reason, riders prefer short-term payments on some trips and long-term payments on others.  Maybe this has something to do with duration of trip.  "
   ]
  },
  {
   "cell_type": "markdown",
   "metadata": {},
   "source": [
    "## Time Analysis"
   ]
  },
  {
   "cell_type": "code",
   "execution_count": 14,
   "metadata": {},
   "outputs": [
    {
     "name": "stderr",
     "output_type": "stream",
     "text": [
      "\r",
      "Waiting on bqjob_r3fca89acddd0a4af_0000016406baa9a5_1 ... (0s) Current status: RUNNING\r",
      "                                                                                      \r",
      "Waiting on bqjob_r3fca89acddd0a4af_0000016406baa9a5_1 ... (1s) Current status: RUNNING\r",
      "                                                                                      \r",
      "Waiting on bqjob_r3fca89acddd0a4af_0000016406baa9a5_1 ... (2s) Current status: RUNNING\r",
      "                                                                                      \r",
      "Waiting on bqjob_r3fca89acddd0a4af_0000016406baa9a5_1 ... (3s) Current status: RUNNING\r",
      "                                                                                      \r",
      "Waiting on bqjob_r3fca89acddd0a4af_0000016406baa9a5_1 ... (4s) Current status: RUNNING\r",
      "                                                                                      \r",
      "Waiting on bqjob_r3fca89acddd0a4af_0000016406baa9a5_1 ... (5s) Current status: RUNNING\r",
      "                                                                                      \r",
      "Waiting on bqjob_r3fca89acddd0a4af_0000016406baa9a5_1 ... (5s) Current status: DONE   "
     ]
    }
   ],
   "source": [
    "%%bash\n",
    "bq query --use_legacy_sql=FALSE --format=csv --max_rows=1000000 --maximum_bytes_billed=3000000000 '\n",
    "SELECT\n",
    "  start_date,\n",
    "  duration_sec,\n",
    "  subscriber_type \n",
    "FROM\n",
    "  `bigquery-public-data.san_francisco.bikeshare_trips`' > start_duration.csv"
   ]
  },
  {
   "cell_type": "code",
   "execution_count": 15,
   "metadata": {
    "scrolled": true
   },
   "outputs": [
    {
     "data": {
      "text/html": [
       "<div>\n",
       "<style scoped>\n",
       "    .dataframe tbody tr th:only-of-type {\n",
       "        vertical-align: middle;\n",
       "    }\n",
       "\n",
       "    .dataframe tbody tr th {\n",
       "        vertical-align: top;\n",
       "    }\n",
       "\n",
       "    .dataframe thead th {\n",
       "        text-align: right;\n",
       "    }\n",
       "</style>\n",
       "<table border=\"1\" class=\"dataframe\">\n",
       "  <thead>\n",
       "    <tr style=\"text-align: right;\">\n",
       "      <th></th>\n",
       "      <th>start_date</th>\n",
       "      <th>duration_sec</th>\n",
       "      <th>subscriber_type</th>\n",
       "    </tr>\n",
       "  </thead>\n",
       "  <tbody>\n",
       "    <tr>\n",
       "      <th>0</th>\n",
       "      <td>2015-01-22 14:15:00</td>\n",
       "      <td>256</td>\n",
       "      <td>Customer</td>\n",
       "    </tr>\n",
       "    <tr>\n",
       "      <th>1</th>\n",
       "      <td>2013-10-01 20:58:00</td>\n",
       "      <td>256</td>\n",
       "      <td>Customer</td>\n",
       "    </tr>\n",
       "    <tr>\n",
       "      <th>2</th>\n",
       "      <td>2013-10-12 16:14:00</td>\n",
       "      <td>256</td>\n",
       "      <td>Customer</td>\n",
       "    </tr>\n",
       "    <tr>\n",
       "      <th>3</th>\n",
       "      <td>2013-12-24 14:50:00</td>\n",
       "      <td>256</td>\n",
       "      <td>Customer</td>\n",
       "    </tr>\n",
       "    <tr>\n",
       "      <th>4</th>\n",
       "      <td>2013-09-02 04:37:00</td>\n",
       "      <td>256</td>\n",
       "      <td>Customer</td>\n",
       "    </tr>\n",
       "  </tbody>\n",
       "</table>\n",
       "</div>"
      ],
      "text/plain": [
       "           start_date  duration_sec subscriber_type\n",
       "0 2015-01-22 14:15:00           256        Customer\n",
       "1 2013-10-01 20:58:00           256        Customer\n",
       "2 2013-10-12 16:14:00           256        Customer\n",
       "3 2013-12-24 14:50:00           256        Customer\n",
       "4 2013-09-02 04:37:00           256        Customer"
      ]
     },
     "execution_count": 15,
     "metadata": {},
     "output_type": "execute_result"
    }
   ],
   "source": [
    "start_duration = pd.read_csv('start_duration.csv', parse_dates=['start_date'])\n",
    "start_duration.head()"
   ]
  },
  {
   "cell_type": "code",
   "execution_count": 21,
   "metadata": {
    "scrolled": true
   },
   "outputs": [
    {
     "data": {
      "text/html": [
       "<div>\n",
       "<style scoped>\n",
       "    .dataframe tbody tr th:only-of-type {\n",
       "        vertical-align: middle;\n",
       "    }\n",
       "\n",
       "    .dataframe tbody tr th {\n",
       "        vertical-align: top;\n",
       "    }\n",
       "\n",
       "    .dataframe thead tr th {\n",
       "        text-align: left;\n",
       "    }\n",
       "\n",
       "    .dataframe thead tr:last-of-type th {\n",
       "        text-align: right;\n",
       "    }\n",
       "</style>\n",
       "<table border=\"1\" class=\"dataframe\">\n",
       "  <thead>\n",
       "    <tr>\n",
       "      <th></th>\n",
       "      <th colspan=\"3\" halign=\"left\">duration_sec</th>\n",
       "    </tr>\n",
       "    <tr>\n",
       "      <th></th>\n",
       "      <th>count</th>\n",
       "      <th>mean</th>\n",
       "      <th>std</th>\n",
       "    </tr>\n",
       "    <tr>\n",
       "      <th>subscriber_type</th>\n",
       "      <th></th>\n",
       "      <th></th>\n",
       "      <th></th>\n",
       "    </tr>\n",
       "  </thead>\n",
       "  <tbody>\n",
       "    <tr>\n",
       "      <th>Customer</th>\n",
       "      <td>136809</td>\n",
       "      <td>3718.78516</td>\n",
       "      <td>48768.511911</td>\n",
       "    </tr>\n",
       "    <tr>\n",
       "      <th>Subscriber</th>\n",
       "      <td>846839</td>\n",
       "      <td>582.76424</td>\n",
       "      <td>2894.559209</td>\n",
       "    </tr>\n",
       "  </tbody>\n",
       "</table>\n",
       "</div>"
      ],
      "text/plain": [
       "                duration_sec                          \n",
       "                       count        mean           std\n",
       "subscriber_type                                       \n",
       "Customer              136809  3718.78516  48768.511911\n",
       "Subscriber            846839   582.76424   2894.559209"
      ]
     },
     "execution_count": 21,
     "metadata": {},
     "output_type": "execute_result"
    }
   ],
   "source": [
    "gb = start_duration.groupby('subscriber_type')\n",
    "gb.agg(['count', 'mean', 'std'])"
   ]
  },
  {
   "cell_type": "markdown",
   "metadata": {},
   "source": [
    "We initially see that there are considerably more subscribers than customers, but the former makes far shorter trips.  However, the extremely high standard deviation on the customer data warrants further examination."
   ]
  },
  {
   "cell_type": "code",
   "execution_count": 23,
   "metadata": {},
   "outputs": [
    {
     "data": {
      "text/html": [
       "<div>\n",
       "<style scoped>\n",
       "    .dataframe tbody tr th:only-of-type {\n",
       "        vertical-align: middle;\n",
       "    }\n",
       "\n",
       "    .dataframe tbody tr th {\n",
       "        vertical-align: top;\n",
       "    }\n",
       "\n",
       "    .dataframe thead tr th {\n",
       "        text-align: left;\n",
       "    }\n",
       "\n",
       "    .dataframe thead tr:last-of-type th {\n",
       "        text-align: right;\n",
       "    }\n",
       "</style>\n",
       "<table border=\"1\" class=\"dataframe\">\n",
       "  <thead>\n",
       "    <tr>\n",
       "      <th></th>\n",
       "      <th colspan=\"8\" halign=\"left\">duration_sec</th>\n",
       "    </tr>\n",
       "    <tr>\n",
       "      <th></th>\n",
       "      <th>count</th>\n",
       "      <th>mean</th>\n",
       "      <th>std</th>\n",
       "      <th>min</th>\n",
       "      <th>25%</th>\n",
       "      <th>50%</th>\n",
       "      <th>75%</th>\n",
       "      <th>max</th>\n",
       "    </tr>\n",
       "    <tr>\n",
       "      <th>subscriber_type</th>\n",
       "      <th></th>\n",
       "      <th></th>\n",
       "      <th></th>\n",
       "      <th></th>\n",
       "      <th></th>\n",
       "      <th></th>\n",
       "      <th></th>\n",
       "      <th></th>\n",
       "    </tr>\n",
       "  </thead>\n",
       "  <tbody>\n",
       "    <tr>\n",
       "      <th>Customer</th>\n",
       "      <td>136809.0</td>\n",
       "      <td>3718.78516</td>\n",
       "      <td>48768.511911</td>\n",
       "      <td>60.0</td>\n",
       "      <td>662.0</td>\n",
       "      <td>1130.0</td>\n",
       "      <td>2360.0</td>\n",
       "      <td>17270400.0</td>\n",
       "    </tr>\n",
       "    <tr>\n",
       "      <th>Subscriber</th>\n",
       "      <td>846839.0</td>\n",
       "      <td>582.76424</td>\n",
       "      <td>2894.559209</td>\n",
       "      <td>60.0</td>\n",
       "      <td>328.0</td>\n",
       "      <td>481.0</td>\n",
       "      <td>670.0</td>\n",
       "      <td>1852590.0</td>\n",
       "    </tr>\n",
       "  </tbody>\n",
       "</table>\n",
       "</div>"
      ],
      "text/plain": [
       "                duration_sec                                                 \\\n",
       "                       count        mean           std   min    25%     50%   \n",
       "subscriber_type                                                               \n",
       "Customer            136809.0  3718.78516  48768.511911  60.0  662.0  1130.0   \n",
       "Subscriber          846839.0   582.76424   2894.559209  60.0  328.0   481.0   \n",
       "\n",
       "                                     \n",
       "                    75%         max  \n",
       "subscriber_type                      \n",
       "Customer         2360.0  17270400.0  \n",
       "Subscriber        670.0   1852590.0  "
      ]
     },
     "execution_count": 23,
     "metadata": {},
     "output_type": "execute_result"
    }
   ],
   "source": [
    "gb.describe()"
   ]
  },
  {
   "cell_type": "code",
   "execution_count": 26,
   "metadata": {
    "scrolled": true
   },
   "outputs": [
    {
     "data": {
      "image/png": "[encoded data removed]",
      "text/plain": [
       "<Figure size 432x288 with 1 Axes>"
      ]
     },
     "metadata": {},
     "output_type": "display_data"
    }
   ],
   "source": [
    "sns.boxplot(x='subscriber_type', y='duration_sec', data=start_duration)\n",
    "plt.show()"
   ]
  },
  {
   "cell_type": "markdown",
   "metadata": {},
   "source": [
    "There is a very large outlier in the customer durations.  Someone apparently made a trip that is 17,270,400 seconds long.  Since that amounts to a 200 day trip, we'll assume there is something wrong with this data point.  Customers are defined as those with 3-day memberships or less.  We will filter out all rides with duration greater than 3 days for now.  But the company should definitely investigate why bikes aren't being returned for several days."
   ]
  },
  {
   "cell_type": "code",
   "execution_count": 51,
   "metadata": {},
   "outputs": [],
   "source": [
    "start_duration2 = start_duration[start_duration.duration_sec < 259200]"
   ]
  },
  {
   "cell_type": "code",
   "execution_count": 40,
   "metadata": {},
   "outputs": [
    {
     "data": {
      "text/html": [
       "<div>\n",
       "<style scoped>\n",
       "    .dataframe tbody tr th:only-of-type {\n",
       "        vertical-align: middle;\n",
       "    }\n",
       "\n",
       "    .dataframe tbody tr th {\n",
       "        vertical-align: top;\n",
       "    }\n",
       "\n",
       "    .dataframe thead tr th {\n",
       "        text-align: left;\n",
       "    }\n",
       "\n",
       "    .dataframe thead tr:last-of-type th {\n",
       "        text-align: right;\n",
       "    }\n",
       "</style>\n",
       "<table border=\"1\" class=\"dataframe\">\n",
       "  <thead>\n",
       "    <tr>\n",
       "      <th></th>\n",
       "      <th colspan=\"8\" halign=\"left\">duration_sec</th>\n",
       "    </tr>\n",
       "    <tr>\n",
       "      <th></th>\n",
       "      <th>count</th>\n",
       "      <th>mean</th>\n",
       "      <th>std</th>\n",
       "      <th>min</th>\n",
       "      <th>25%</th>\n",
       "      <th>50%</th>\n",
       "      <th>75%</th>\n",
       "      <th>max</th>\n",
       "    </tr>\n",
       "    <tr>\n",
       "      <th>subscriber_type</th>\n",
       "      <th></th>\n",
       "      <th></th>\n",
       "      <th></th>\n",
       "      <th></th>\n",
       "      <th></th>\n",
       "      <th></th>\n",
       "      <th></th>\n",
       "      <th></th>\n",
       "    </tr>\n",
       "  </thead>\n",
       "  <tbody>\n",
       "    <tr>\n",
       "      <th>Customer</th>\n",
       "      <td>136759.0</td>\n",
       "      <td>3418.234712</td>\n",
       "      <td>9156.444306</td>\n",
       "      <td>60.0</td>\n",
       "      <td>662.0</td>\n",
       "      <td>1130.0</td>\n",
       "      <td>2357.0</td>\n",
       "      <td>258706.0</td>\n",
       "    </tr>\n",
       "    <tr>\n",
       "      <th>Subscriber</th>\n",
       "      <td>846831.0</td>\n",
       "      <td>577.248112</td>\n",
       "      <td>1656.917276</td>\n",
       "      <td>60.0</td>\n",
       "      <td>328.0</td>\n",
       "      <td>481.0</td>\n",
       "      <td>670.0</td>\n",
       "      <td>250430.0</td>\n",
       "    </tr>\n",
       "  </tbody>\n",
       "</table>\n",
       "</div>"
      ],
      "text/plain": [
       "                duration_sec                                                 \\\n",
       "                       count         mean          std   min    25%     50%   \n",
       "subscriber_type                                                               \n",
       "Customer            136759.0  3418.234712  9156.444306  60.0  662.0  1130.0   \n",
       "Subscriber          846831.0   577.248112  1656.917276  60.0  328.0   481.0   \n",
       "\n",
       "                                   \n",
       "                    75%       max  \n",
       "subscriber_type                    \n",
       "Customer         2357.0  258706.0  \n",
       "Subscriber        670.0  250430.0  "
      ]
     },
     "execution_count": 40,
     "metadata": {},
     "output_type": "execute_result"
    }
   ],
   "source": [
    "gb = start_duration2.groupby('subscriber_type')\n",
    "gb.describe()"
   ]
  },
  {
   "cell_type": "code",
   "execution_count": 41,
   "metadata": {},
   "outputs": [
    {
     "data": {
      "text/html": [
       "<div>\n",
       "<style scoped>\n",
       "    .dataframe tbody tr th:only-of-type {\n",
       "        vertical-align: middle;\n",
       "    }\n",
       "\n",
       "    .dataframe tbody tr th {\n",
       "        vertical-align: top;\n",
       "    }\n",
       "\n",
       "    .dataframe thead tr th {\n",
       "        text-align: left;\n",
       "    }\n",
       "\n",
       "    .dataframe thead tr:last-of-type th {\n",
       "        text-align: right;\n",
       "    }\n",
       "</style>\n",
       "<table border=\"1\" class=\"dataframe\">\n",
       "  <thead>\n",
       "    <tr>\n",
       "      <th></th>\n",
       "      <th colspan=\"3\" halign=\"left\">duration_sec</th>\n",
       "    </tr>\n",
       "    <tr>\n",
       "      <th></th>\n",
       "      <th>count</th>\n",
       "      <th>mean</th>\n",
       "      <th>std</th>\n",
       "    </tr>\n",
       "    <tr>\n",
       "      <th>subscriber_type</th>\n",
       "      <th></th>\n",
       "      <th></th>\n",
       "      <th></th>\n",
       "    </tr>\n",
       "  </thead>\n",
       "  <tbody>\n",
       "    <tr>\n",
       "      <th>Customer</th>\n",
       "      <td>136759</td>\n",
       "      <td>3418.234712</td>\n",
       "      <td>9156.444306</td>\n",
       "    </tr>\n",
       "    <tr>\n",
       "      <th>Subscriber</th>\n",
       "      <td>846831</td>\n",
       "      <td>577.248112</td>\n",
       "      <td>1656.917276</td>\n",
       "    </tr>\n",
       "  </tbody>\n",
       "</table>\n",
       "</div>"
      ],
      "text/plain": [
       "                duration_sec                          \n",
       "                       count         mean          std\n",
       "subscriber_type                                       \n",
       "Customer              136759  3418.234712  9156.444306\n",
       "Subscriber            846831   577.248112  1656.917276"
      ]
     },
     "execution_count": 41,
     "metadata": {},
     "output_type": "execute_result"
    }
   ],
   "source": [
    "gb.agg(['count', 'mean', 'std'])"
   ]
  },
  {
   "cell_type": "markdown",
   "metadata": {},
   "source": [
    "There are still a ton of outliers, so we will look at the boxplots with a truncated y axis."
   ]
  },
  {
   "cell_type": "code",
   "execution_count": 91,
   "metadata": {
    "scrolled": true
   },
   "outputs": [
    {
     "data": {
      "image/png": "[encoded data removed]",
      "text/plain": [
       "<Figure size 432x288 with 1 Axes>"
      ]
     },
     "metadata": {},
     "output_type": "display_data"
    }
   ],
   "source": [
    "sns.boxplot(x='subscriber_type', y='duration_sec', data=start_duration2)\n",
    "plt.ylim(0, 5000)\n",
    "plt.show()"
   ]
  },
  {
   "cell_type": "markdown",
   "metadata": {},
   "source": [
    "Next we will look at the fluctuations in ridership throughout the day."
   ]
  },
  {
   "cell_type": "code",
   "execution_count": 48,
   "metadata": {},
   "outputs": [
    {
     "data": {
      "text/plain": [
       "start_date         object\n",
       "duration_sec        int64\n",
       "subscriber_type    object\n",
       "dtype: object"
      ]
     },
     "execution_count": 48,
     "metadata": {},
     "output_type": "execute_result"
    }
   ],
   "source": [
    "start_duration2.dtypes\n"
   ]
  },
  {
   "cell_type": "code",
   "execution_count": 52,
   "metadata": {},
   "outputs": [],
   "source": [
    "start_duration2 = start_duration2.assign(hour = start_duration2.start_date.dt.hour)"
   ]
  },
  {
   "cell_type": "code",
   "execution_count": 90,
   "metadata": {},
   "outputs": [
    {
     "data": {
      "image/png": "[encoded data removed]",
      "text/plain": [
       "<Figure size 864x360 with 1 Axes>"
      ]
     },
     "metadata": {},
     "output_type": "display_data"
    }
   ],
   "source": [
    "plt.figure(figsize=(12,5))\n",
    "sns.boxplot(x='hour', y='duration_sec', data=start_duration2)\n",
    "plt.ylim(0, 3000)\n",
    "plt.show()"
   ]
  },
  {
   "cell_type": "markdown",
   "metadata": {},
   "source": [
    "There seems to be a weird increase in ride duration for trips started in the middle of night.  Something changes between 3 AM and 4 AM and is worth investigating.  Perhaps late night riders are not returning the bikes."
   ]
  },
  {
   "cell_type": "code",
   "execution_count": 82,
   "metadata": {},
   "outputs": [
    {
     "data": {
      "text/html": [
       "<div>\n",
       "<style scoped>\n",
       "    .dataframe tbody tr th:only-of-type {\n",
       "        vertical-align: middle;\n",
       "    }\n",
       "\n",
       "    .dataframe tbody tr th {\n",
       "        vertical-align: top;\n",
       "    }\n",
       "\n",
       "    .dataframe thead th {\n",
       "        text-align: right;\n",
       "    }\n",
       "</style>\n",
       "<table border=\"1\" class=\"dataframe\">\n",
       "  <thead>\n",
       "    <tr style=\"text-align: right;\">\n",
       "      <th></th>\n",
       "      <th>hour</th>\n",
       "      <th>start_date</th>\n",
       "      <th>duration_sec</th>\n",
       "      <th>subscriber_type</th>\n",
       "    </tr>\n",
       "  </thead>\n",
       "  <tbody>\n",
       "    <tr>\n",
       "      <th>0</th>\n",
       "      <td>0</td>\n",
       "      <td>2929</td>\n",
       "      <td>2929</td>\n",
       "      <td>2929</td>\n",
       "    </tr>\n",
       "    <tr>\n",
       "      <th>1</th>\n",
       "      <td>1</td>\n",
       "      <td>1610</td>\n",
       "      <td>1610</td>\n",
       "      <td>1610</td>\n",
       "    </tr>\n",
       "    <tr>\n",
       "      <th>2</th>\n",
       "      <td>2</td>\n",
       "      <td>877</td>\n",
       "      <td>877</td>\n",
       "      <td>877</td>\n",
       "    </tr>\n",
       "    <tr>\n",
       "      <th>3</th>\n",
       "      <td>3</td>\n",
       "      <td>600</td>\n",
       "      <td>600</td>\n",
       "      <td>600</td>\n",
       "    </tr>\n",
       "    <tr>\n",
       "      <th>4</th>\n",
       "      <td>4</td>\n",
       "      <td>1398</td>\n",
       "      <td>1398</td>\n",
       "      <td>1398</td>\n",
       "    </tr>\n",
       "    <tr>\n",
       "      <th>5</th>\n",
       "      <td>5</td>\n",
       "      <td>5097</td>\n",
       "      <td>5097</td>\n",
       "      <td>5097</td>\n",
       "    </tr>\n",
       "    <tr>\n",
       "      <th>6</th>\n",
       "      <td>6</td>\n",
       "      <td>20516</td>\n",
       "      <td>20516</td>\n",
       "      <td>20516</td>\n",
       "    </tr>\n",
       "    <tr>\n",
       "      <th>7</th>\n",
       "      <td>7</td>\n",
       "      <td>67530</td>\n",
       "      <td>67530</td>\n",
       "      <td>67530</td>\n",
       "    </tr>\n",
       "    <tr>\n",
       "      <th>8</th>\n",
       "      <td>8</td>\n",
       "      <td>132460</td>\n",
       "      <td>132460</td>\n",
       "      <td>132460</td>\n",
       "    </tr>\n",
       "    <tr>\n",
       "      <th>9</th>\n",
       "      <td>9</td>\n",
       "      <td>96112</td>\n",
       "      <td>96112</td>\n",
       "      <td>96112</td>\n",
       "    </tr>\n",
       "    <tr>\n",
       "      <th>10</th>\n",
       "      <td>10</td>\n",
       "      <td>42778</td>\n",
       "      <td>42778</td>\n",
       "      <td>42778</td>\n",
       "    </tr>\n",
       "    <tr>\n",
       "      <th>11</th>\n",
       "      <td>11</td>\n",
       "      <td>40404</td>\n",
       "      <td>40404</td>\n",
       "      <td>40404</td>\n",
       "    </tr>\n",
       "    <tr>\n",
       "      <th>12</th>\n",
       "      <td>12</td>\n",
       "      <td>46949</td>\n",
       "      <td>46949</td>\n",
       "      <td>46949</td>\n",
       "    </tr>\n",
       "    <tr>\n",
       "      <th>13</th>\n",
       "      <td>13</td>\n",
       "      <td>43710</td>\n",
       "      <td>43710</td>\n",
       "      <td>43710</td>\n",
       "    </tr>\n",
       "    <tr>\n",
       "      <th>14</th>\n",
       "      <td>14</td>\n",
       "      <td>37850</td>\n",
       "      <td>37850</td>\n",
       "      <td>37850</td>\n",
       "    </tr>\n",
       "    <tr>\n",
       "      <th>15</th>\n",
       "      <td>15</td>\n",
       "      <td>47624</td>\n",
       "      <td>47624</td>\n",
       "      <td>47624</td>\n",
       "    </tr>\n",
       "    <tr>\n",
       "      <th>16</th>\n",
       "      <td>16</td>\n",
       "      <td>88751</td>\n",
       "      <td>88751</td>\n",
       "      <td>88751</td>\n",
       "    </tr>\n",
       "    <tr>\n",
       "      <th>17</th>\n",
       "      <td>17</td>\n",
       "      <td>126300</td>\n",
       "      <td>126300</td>\n",
       "      <td>126300</td>\n",
       "    </tr>\n",
       "    <tr>\n",
       "      <th>18</th>\n",
       "      <td>18</td>\n",
       "      <td>84565</td>\n",
       "      <td>84565</td>\n",
       "      <td>84565</td>\n",
       "    </tr>\n",
       "    <tr>\n",
       "      <th>19</th>\n",
       "      <td>19</td>\n",
       "      <td>41071</td>\n",
       "      <td>41071</td>\n",
       "      <td>41071</td>\n",
       "    </tr>\n",
       "    <tr>\n",
       "      <th>20</th>\n",
       "      <td>20</td>\n",
       "      <td>22744</td>\n",
       "      <td>22744</td>\n",
       "      <td>22744</td>\n",
       "    </tr>\n",
       "    <tr>\n",
       "      <th>21</th>\n",
       "      <td>21</td>\n",
       "      <td>15253</td>\n",
       "      <td>15253</td>\n",
       "      <td>15253</td>\n",
       "    </tr>\n",
       "    <tr>\n",
       "      <th>22</th>\n",
       "      <td>22</td>\n",
       "      <td>10269</td>\n",
       "      <td>10269</td>\n",
       "      <td>10269</td>\n",
       "    </tr>\n",
       "    <tr>\n",
       "      <th>23</th>\n",
       "      <td>23</td>\n",
       "      <td>6193</td>\n",
       "      <td>6193</td>\n",
       "      <td>6193</td>\n",
       "    </tr>\n",
       "  </tbody>\n",
       "</table>\n",
       "</div>"
      ],
      "text/plain": [
       "    hour  start_date  duration_sec  subscriber_type\n",
       "0      0        2929          2929             2929\n",
       "1      1        1610          1610             1610\n",
       "2      2         877           877              877\n",
       "3      3         600           600              600\n",
       "4      4        1398          1398             1398\n",
       "5      5        5097          5097             5097\n",
       "6      6       20516         20516            20516\n",
       "7      7       67530         67530            67530\n",
       "8      8      132460        132460           132460\n",
       "9      9       96112         96112            96112\n",
       "10    10       42778         42778            42778\n",
       "11    11       40404         40404            40404\n",
       "12    12       46949         46949            46949\n",
       "13    13       43710         43710            43710\n",
       "14    14       37850         37850            37850\n",
       "15    15       47624         47624            47624\n",
       "16    16       88751         88751            88751\n",
       "17    17      126300        126300           126300\n",
       "18    18       84565         84565            84565\n",
       "19    19       41071         41071            41071\n",
       "20    20       22744         22744            22744\n",
       "21    21       15253         15253            15253\n",
       "22    22       10269         10269            10269\n",
       "23    23        6193          6193             6193"
      ]
     },
     "execution_count": 82,
     "metadata": {},
     "output_type": "execute_result"
    }
   ],
   "source": [
    "gb = start_duration2.groupby('hour')\n",
    "df = gb.count().reset_index()\n",
    "df"
   ]
  },
  {
   "cell_type": "code",
   "execution_count": 89,
   "metadata": {
    "scrolled": true
   },
   "outputs": [
    {
     "data": {
      "image/png": "[encoded data removed]",
      "text/plain": [
       "<Figure size 864x360 with 1 Axes>"
      ]
     },
     "metadata": {},
     "output_type": "display_data"
    }
   ],
   "source": [
    "plt.figure(figsize=(12,5))\n",
    "sns.barplot(df.hour, df.start_date)\n",
    "plt.xlabel('Hour')\n",
    "plt.ylabel('Number of Rides')\n",
    "plt.show()"
   ]
  },
  {
   "cell_type": "markdown",
   "metadata": {},
   "source": [
    "We see a clear spike in ridership at the 8 AM hour and the 5 PM hour.  This corresponds nicely with the standard American work schedule.  The company can look into special pricing during these times."
   ]
  }
 ],
 "metadata": {
  "kernelspec": {
   "display_name": "Python 3",
   "language": "python",
   "name": "python3"
  },
  "language_info": {
   "codemirror_mode": {
    "name": "ipython",
    "version": 3
   },
   "file_extension": ".py",
   "mimetype": "text/x-python",
   "name": "python",
   "nbconvert_exporter": "python",
   "pygments_lexer": "ipython3",
   "version": "3.5.2"
  }
 },
 "nbformat": 4,
 "nbformat_minor": 2
}
